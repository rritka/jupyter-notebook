{
 "cells": [
  {
   "cell_type": "markdown",
   "metadata": {},
   "source": [
    "Задача 4\n",
    "=======\n",
    "крайне не хватает конкретики в данном задании, но видимо в этом и суть его. Дабы молодые искатели как я проявили свои таланты балансируя между фантазией и логикой:) Тогда пойдем пошагово и с конца, травма наносится персонажу, так что логично, что отнимаем урон от базового, тогда -17% :  "
   ]
  },
  {
   "cell_type": "code",
   "execution_count": 25,
   "metadata": {},
   "outputs": [
    {
     "name": "stdout",
     "output_type": "stream",
     "text": [
      "29.05\n"
     ]
    }
   ],
   "source": [
    "base_damage = 35\n",
    "damage = base_damage * (1 - 0.17) \n",
    "print(round(damage, 2))"
   ]
  },
  {
   "cell_type": "markdown",
   "metadata": {},
   "source": [
    "оружие даёт урон в процентах, значит зависит от изменений базового урона, включая навыки персонажа, его типа и т.д. А- ля, травмировали руку персу тут оружие мало поможет, поэтому рассчитываю от уменьшенного после повреждения базового урона, при чём для каждого оружия (т.к. увеличение урона в степенной функции оружия от оружия по-моему не камильфо):"
   ]
  },
  {
   "cell_type": "code",
   "execution_count": 26,
   "metadata": {},
   "outputs": [
    {
     "name": "stdout",
     "output_type": "stream",
     "text": [
      "37.4745\n"
     ]
    }
   ],
   "source": [
    "damage *= (1 + 0.12 + 0.17)\n",
    "print(damage)"
   ]
  },
  {
   "cell_type": "markdown",
   "metadata": {},
   "source": [
    "Накладываем баф. Обычно баф накладывается более конкретно на умение, владение стихией, типу брони и тому подобное.. но 6% не так уж и много, а травмой мы потеряли много, уменьшив и плюс от оружия (так что порой лучше оружие в добавочных единицах а не процентах), поэтому предположим, что баф достаточно обще увеличил весь суммарный урон тогда:"
   ]
  },
  {
   "cell_type": "code",
   "execution_count": 27,
   "metadata": {},
   "outputs": [
    {
     "name": "stdout",
     "output_type": "stream",
     "text": [
      "39.72\n"
     ]
    }
   ],
   "source": [
    "damage *= (1 + 0.06)\n",
    "print(round(damage, 2))"
   ]
  },
  {
   "cell_type": "markdown",
   "metadata": {},
   "source": [
    "Из любопытства посмотрим, что получилось бы без травмы:"
   ]
  },
  {
   "cell_type": "code",
   "execution_count": 30,
   "metadata": {},
   "outputs": [
    {
     "name": "stdout",
     "output_type": "stream",
     "text": [
      "47.859\n"
     ]
    }
   ],
   "source": [
    "print(base_damage * (1 + 0.12 + 0.17) * (1 + 0.06))"
   ]
  },
  {
   "cell_type": "markdown",
   "metadata": {},
   "source": [
    "порядочная потеря аж в 8 единиц (около 20%) врядли порадует игрока, тем более если игра подразумевает бой армии из персонажей, ведь потеря на отряд из 40 таких юнитов вообще колосальна.. так что возможно стоит подкорректировать логику, отсчитывая урон оружия от сугубо базового не травмированного урона, а может всё вполне и сбалансированно, ведь надо и проучать иногда игроков. Итак, последний шаг, сколько принесёт армия из 40 таких персов одним ударом:"
   ]
  },
  {
   "cell_type": "code",
   "execution_count": 33,
   "metadata": {},
   "outputs": [
    {
     "name": "stdout",
     "output_type": "stream",
     "text": [
      "1588.9\n"
     ]
    }
   ],
   "source": [
    "print(round(damage * 40, 1))"
   ]
  },
  {
   "cell_type": "code",
   "execution_count": null,
   "metadata": {},
   "outputs": [],
   "source": []
  }
 ],
 "metadata": {
  "kernelspec": {
   "display_name": "Python 3",
   "language": "python",
   "name": "python3"
  },
  "language_info": {
   "codemirror_mode": {
    "name": "ipython",
    "version": 3
   },
   "file_extension": ".py",
   "mimetype": "text/x-python",
   "name": "python",
   "nbconvert_exporter": "python",
   "pygments_lexer": "ipython3",
   "version": "3.6.9"
  }
 },
 "nbformat": 4,
 "nbformat_minor": 4
}
