{
 "cells": [
  {
   "cell_type": "code",
   "execution_count": 196,
   "metadata": {},
   "outputs": [],
   "source": [
    "import chart_studio.plotly as py\n",
    "import plotly.graph_objects as go\n",
    "import plotly.figure_factory as ff\n",
    "import matplotlib.pyplot as plt\n",
    "import pandas as pd\n",
    "import numpy as np\n",
    "from datetime import datetime, date, time\n",
    "\n",
    "plt.rcParams[\"figure.figsize\"] = (10,7)\n",
    "plt.style.use('ggplot')"
   ]
  },
  {
   "cell_type": "code",
   "execution_count": 197,
   "metadata": {},
   "outputs": [],
   "source": [
    "df = pd.read_csv('data.csv', delimiter=';', parse_dates=['dt'], decimal=\",\") "
   ]
  },
  {
   "cell_type": "markdown",
   "metadata": {},
   "source": [
    "импортировали библиотеки и загрузили файл с данными, просмотрим первые  10 значений и информацию о датасете"
   ]
  },
  {
   "cell_type": "code",
   "execution_count": 198,
   "metadata": {},
   "outputs": [
    {
     "data": {
      "text/html": [
       "<div>\n",
       "<style scoped>\n",
       "    .dataframe tbody tr th:only-of-type {\n",
       "        vertical-align: middle;\n",
       "    }\n",
       "\n",
       "    .dataframe tbody tr th {\n",
       "        vertical-align: top;\n",
       "    }\n",
       "\n",
       "    .dataframe thead th {\n",
       "        text-align: right;\n",
       "    }\n",
       "</style>\n",
       "<table border=\"1\" class=\"dataframe\">\n",
       "  <thead>\n",
       "    <tr style=\"text-align: right;\">\n",
       "      <th></th>\n",
       "      <th>player_id</th>\n",
       "      <th>dt</th>\n",
       "      <th>battles</th>\n",
       "      <th>revenue</th>\n",
       "    </tr>\n",
       "  </thead>\n",
       "  <tbody>\n",
       "    <tr>\n",
       "      <th>0</th>\n",
       "      <td>1761375733</td>\n",
       "      <td>2019-03-18</td>\n",
       "      <td>2</td>\n",
       "      <td>0.0</td>\n",
       "    </tr>\n",
       "    <tr>\n",
       "      <th>1</th>\n",
       "      <td>5142722405</td>\n",
       "      <td>2019-04-05</td>\n",
       "      <td>6</td>\n",
       "      <td>0.0</td>\n",
       "    </tr>\n",
       "    <tr>\n",
       "      <th>2</th>\n",
       "      <td>6336768620</td>\n",
       "      <td>2019-03-16</td>\n",
       "      <td>27</td>\n",
       "      <td>0.0</td>\n",
       "    </tr>\n",
       "    <tr>\n",
       "      <th>3</th>\n",
       "      <td>6769868103</td>\n",
       "      <td>2019-04-29</td>\n",
       "      <td>2</td>\n",
       "      <td>0.0</td>\n",
       "    </tr>\n",
       "    <tr>\n",
       "      <th>4</th>\n",
       "      <td>7080232366</td>\n",
       "      <td>2019-04-14</td>\n",
       "      <td>60</td>\n",
       "      <td>0.0</td>\n",
       "    </tr>\n",
       "    <tr>\n",
       "      <th>5</th>\n",
       "      <td>1360266281</td>\n",
       "      <td>2019-04-29</td>\n",
       "      <td>3</td>\n",
       "      <td>0.0</td>\n",
       "    </tr>\n",
       "    <tr>\n",
       "      <th>6</th>\n",
       "      <td>7199927670</td>\n",
       "      <td>2019-03-17</td>\n",
       "      <td>134</td>\n",
       "      <td>0.0</td>\n",
       "    </tr>\n",
       "    <tr>\n",
       "      <th>7</th>\n",
       "      <td>4175820410</td>\n",
       "      <td>2019-05-21</td>\n",
       "      <td>31</td>\n",
       "      <td>0.0</td>\n",
       "    </tr>\n",
       "    <tr>\n",
       "      <th>8</th>\n",
       "      <td>3913887322</td>\n",
       "      <td>2019-04-22</td>\n",
       "      <td>19</td>\n",
       "      <td>0.0</td>\n",
       "    </tr>\n",
       "    <tr>\n",
       "      <th>9</th>\n",
       "      <td>4685866667</td>\n",
       "      <td>2019-09-04</td>\n",
       "      <td>110</td>\n",
       "      <td>0.0</td>\n",
       "    </tr>\n",
       "  </tbody>\n",
       "</table>\n",
       "</div>"
      ],
      "text/plain": [
       "    player_id         dt  battles  revenue\n",
       "0  1761375733 2019-03-18        2      0.0\n",
       "1  5142722405 2019-04-05        6      0.0\n",
       "2  6336768620 2019-03-16       27      0.0\n",
       "3  6769868103 2019-04-29        2      0.0\n",
       "4  7080232366 2019-04-14       60      0.0\n",
       "5  1360266281 2019-04-29        3      0.0\n",
       "6  7199927670 2019-03-17      134      0.0\n",
       "7  4175820410 2019-05-21       31      0.0\n",
       "8  3913887322 2019-04-22       19      0.0\n",
       "9  4685866667 2019-09-04      110      0.0"
      ]
     },
     "execution_count": 198,
     "metadata": {},
     "output_type": "execute_result"
    }
   ],
   "source": [
    "df.head(10)"
   ]
  },
  {
   "cell_type": "code",
   "execution_count": 211,
   "metadata": {},
   "outputs": [
    {
     "name": "stdout",
     "output_type": "stream",
     "text": [
      "<class 'pandas.core.frame.DataFrame'>\n",
      "RangeIndex: 551016 entries, 0 to 551015\n",
      "Data columns (total 6 columns):\n",
      " #   Column     Non-Null Count   Dtype         \n",
      "---  ------     --------------   -----         \n",
      " 0   player_id  551016 non-null  int64         \n",
      " 1   dt         551016 non-null  datetime64[ns]\n",
      " 2   battles    551016 non-null  int64         \n",
      " 3   revenue    551016 non-null  float64       \n",
      " 4   weekday    551016 non-null  object        \n",
      " 5   week_id    551016 non-null  int64         \n",
      "dtypes: datetime64[ns](1), float64(1), int64(3), object(1)\n",
      "memory usage: 25.2+ MB\n"
     ]
    }
   ],
   "source": [
    "df.info()"
   ]
  },
  {
   "cell_type": "markdown",
   "metadata": {},
   "source": [
    "Видим 4 столбца, и что данные были правильно распарсены (изменен тип object на datetime и float для двух столбцов). количество значений в столбцах совпадает, значит пропусков данных не наблюдается, и по всей видимости, данные хорошо предобработаны. можно на всякий случай сделать проверку на дубликаты данных"
   ]
  },
  {
   "cell_type": "code",
   "execution_count": 200,
   "metadata": {},
   "outputs": [
    {
     "data": {
      "text/plain": [
       "0"
      ]
     },
     "execution_count": 200,
     "metadata": {},
     "output_type": "execute_result"
    }
   ],
   "source": [
    "df.duplicated().sum()"
   ]
  },
  {
   "cell_type": "markdown",
   "metadata": {},
   "source": [
    "как видим, дубликатов не обнаружено, переходим к анализу данных. \n",
    "Построим первые предварительные графики, что бы пронаблюдать общую тенденцию в течении времени в собранном датасете, наблюдается ли явный прирост/спад проведенных битв, внесенных денежных средств и количества играющих людей."
   ]
  },
  {
   "cell_type": "code",
   "execution_count": 268,
   "metadata": {},
   "outputs": [
    {
     "data": {
      "text/plain": [
       "[<matplotlib.lines.Line2D at 0x7f463e2d72b0>]"
      ]
     },
     "execution_count": 268,
     "metadata": {},
     "output_type": "execute_result"
    },
    {
     "data": {
      "image/png": "[encoded data removed]",
      "text/plain": [
       "<Figure size 720x504 with 1 Axes>"
      ]
     },
     "metadata": {},
     "output_type": "display_data"
    }
   ],
   "source": [
    "plt.plot(df.groupby(['dt'])['battles'].sum(), 'bo') #график количества боёв в день"
   ]
  },
  {
   "cell_type": "code",
   "execution_count": 204,
   "metadata": {},
   "outputs": [
    {
     "data": {
      "text/plain": [
       "[<matplotlib.lines.Line2D at 0x7f466ffcafd0>]"
      ]
     },
     "execution_count": 204,
     "metadata": {},
     "output_type": "execute_result"
    },
    {
     "data": {
      "image/png": "[encoded data removed]",
      "text/plain": [
       "<Figure size 720x504 with 1 Axes>"
      ]
     },
     "metadata": {},
     "output_type": "display_data"
    }
   ],
   "source": [
    "plt.plot(df.groupby(['dt'])['revenue'].sum(), 'ro') #график количества внесенных денег в день"
   ]
  },
  {
   "cell_type": "code",
   "execution_count": 205,
   "metadata": {},
   "outputs": [
    {
     "data": {
      "text/plain": [
       "[<matplotlib.lines.Line2D at 0x7f466ffa39b0>]"
      ]
     },
     "execution_count": 205,
     "metadata": {},
     "output_type": "execute_result"
    },
    {
     "data": {
      "image/png": "[encoded data removed]",
      "text/plain": [
       "<Figure size 720x504 with 1 Axes>"
      ]
     },
     "metadata": {},
     "output_type": "display_data"
    }
   ],
   "source": [
    "plt.plot(df.groupby(['dt'])['player_id'].count(), 'go') #график количество игроков в день"
   ]
  },
  {
   "cell_type": "markdown",
   "metadata": {},
   "source": [
    "Как мы видим, выборка по трём графикам имеет похожую тенденцию и сконцентрирована возле майского месяца, что скорее всего связано с проводимым турниром. для более наглядного рассмотрения сгруппируем данные по месяцам и визуализируем столбчатыми графиками."
   ]
  },
  {
   "cell_type": "code",
   "execution_count": 206,
   "metadata": {},
   "outputs": [
    {
     "data": {
      "text/html": [
       "<div>\n",
       "<style scoped>\n",
       "    .dataframe tbody tr th:only-of-type {\n",
       "        vertical-align: middle;\n",
       "    }\n",
       "\n",
       "    .dataframe tbody tr th {\n",
       "        vertical-align: top;\n",
       "    }\n",
       "\n",
       "    .dataframe thead th {\n",
       "        text-align: right;\n",
       "    }\n",
       "</style>\n",
       "<table border=\"1\" class=\"dataframe\">\n",
       "  <thead>\n",
       "    <tr style=\"text-align: right;\">\n",
       "      <th></th>\n",
       "      <th>dt</th>\n",
       "      <th>player_id</th>\n",
       "    </tr>\n",
       "  </thead>\n",
       "  <tbody>\n",
       "    <tr>\n",
       "      <th>11</th>\n",
       "      <td>2017-03-18</td>\n",
       "      <td>6313</td>\n",
       "    </tr>\n",
       "    <tr>\n",
       "      <th>1</th>\n",
       "      <td>2017-01-05</td>\n",
       "      <td>4474</td>\n",
       "    </tr>\n",
       "    <tr>\n",
       "      <th>80</th>\n",
       "      <td>2018-03-17</td>\n",
       "      <td>3853</td>\n",
       "    </tr>\n",
       "    <tr>\n",
       "      <th>64</th>\n",
       "      <td>2017-07-03</td>\n",
       "      <td>3629</td>\n",
       "    </tr>\n",
       "    <tr>\n",
       "      <th>147</th>\n",
       "      <td>2019-03-16</td>\n",
       "      <td>3348</td>\n",
       "    </tr>\n",
       "  </tbody>\n",
       "</table>\n",
       "</div>"
      ],
      "text/plain": [
       "            dt  player_id\n",
       "11  2017-03-18       6313\n",
       "1   2017-01-05       4474\n",
       "80  2018-03-17       3853\n",
       "64  2017-07-03       3629\n",
       "147 2019-03-16       3348"
      ]
     },
     "execution_count": 206,
     "metadata": {},
     "output_type": "execute_result"
    }
   ],
   "source": [
    "z = df.groupby('player_id', as_index=False)['dt'].min() #первый день игрока(новый игрок)\n",
    "x = z.groupby('dt', as_index=False)['player_id'].count(\n",
    ").sort_values(by='player_id',ascending=False) #сколько новых игроков в данный день\n",
    "x.head()"
   ]
  },
  {
   "cell_type": "code",
   "execution_count": 212,
   "metadata": {},
   "outputs": [
    {
     "data": {
      "text/html": [
       "<div>\n",
       "<style scoped>\n",
       "    .dataframe tbody tr th:only-of-type {\n",
       "        vertical-align: middle;\n",
       "    }\n",
       "\n",
       "    .dataframe tbody tr th {\n",
       "        vertical-align: top;\n",
       "    }\n",
       "\n",
       "    .dataframe thead th {\n",
       "        text-align: right;\n",
       "    }\n",
       "</style>\n",
       "<table border=\"1\" class=\"dataframe\">\n",
       "  <thead>\n",
       "    <tr style=\"text-align: right;\">\n",
       "      <th></th>\n",
       "      <th>dt</th>\n",
       "      <th>player_id</th>\n",
       "      <th>battles</th>\n",
       "      <th>revenue</th>\n",
       "    </tr>\n",
       "  </thead>\n",
       "  <tbody>\n",
       "    <tr>\n",
       "      <th>0</th>\n",
       "      <td>2017-01-31</td>\n",
       "      <td>7928</td>\n",
       "      <td>450639</td>\n",
       "      <td>5302.95</td>\n",
       "    </tr>\n",
       "    <tr>\n",
       "      <th>1</th>\n",
       "      <td>2017-02-28</td>\n",
       "      <td>6354</td>\n",
       "      <td>360010</td>\n",
       "      <td>1979.45</td>\n",
       "    </tr>\n",
       "    <tr>\n",
       "      <th>2</th>\n",
       "      <td>2017-03-31</td>\n",
       "      <td>69274</td>\n",
       "      <td>3716409</td>\n",
       "      <td>41296.92</td>\n",
       "    </tr>\n",
       "    <tr>\n",
       "      <th>3</th>\n",
       "      <td>2017-04-30</td>\n",
       "      <td>60753</td>\n",
       "      <td>3257435</td>\n",
       "      <td>36953.84</td>\n",
       "    </tr>\n",
       "    <tr>\n",
       "      <th>4</th>\n",
       "      <td>2017-05-31</td>\n",
       "      <td>42265</td>\n",
       "      <td>2242020</td>\n",
       "      <td>29533.45</td>\n",
       "    </tr>\n",
       "  </tbody>\n",
       "</table>\n",
       "</div>"
      ],
      "text/plain": [
       "          dt  player_id  battles   revenue\n",
       "0 2017-01-31       7928   450639   5302.95\n",
       "1 2017-02-28       6354   360010   1979.45\n",
       "2 2017-03-31      69274  3716409  41296.92\n",
       "3 2017-04-30      60753  3257435  36953.84\n",
       "4 2017-05-31      42265  2242020  29533.45"
      ]
     },
     "execution_count": 212,
     "metadata": {},
     "output_type": "execute_result"
    }
   ],
   "source": [
    "q = df.groupby(pd.Grouper(key='dt', freq=\"M\"))['battles'].sum()\n",
    "w = df.groupby(pd.Grouper(key='dt', freq=\"M\"))['player_id'].count()\n",
    "e = df.groupby(pd.Grouper(key='dt', freq=\"M\"))['revenue'].sum()\n",
    "data_by_month = pd.concat([w,q, e], axis=1)\n",
    "data_by_month.reset_index(level=0, inplace=True)\n",
    "data_by_month.head()"
   ]
  },
  {
   "cell_type": "code",
   "execution_count": 217,
   "metadata": {},
   "outputs": [
    {
     "data": {
      "text/plain": [
       "<matplotlib.axes._subplots.AxesSubplot at 0x7f466fa7ee48>"
      ]
     },
     "execution_count": 217,
     "metadata": {},
     "output_type": "execute_result"
    },
    {
     "data": {
      "image/png": "[encoded data removed]",
      "text/plain": [
       "<Figure size 720x504 with 1 Axes>"
      ]
     },
     "metadata": {},
     "output_type": "display_data"
    }
   ],
   "source": [
    "data_by_month.plot.bar('dt','player_id',width=0.8, linewidth=1, color='g') #игроков в месяц"
   ]
  },
  {
   "cell_type": "code",
   "execution_count": 218,
   "metadata": {},
   "outputs": [
    {
     "data": {
      "text/plain": [
       "<matplotlib.axes._subplots.AxesSubplot at 0x7f466f92ae10>"
      ]
     },
     "execution_count": 218,
     "metadata": {},
     "output_type": "execute_result"
    },
    {
     "data": {
      "image/png": "[encoded data removed]",
      "text/plain": [
       "<Figure size 720x504 with 1 Axes>"
      ]
     },
     "metadata": {},
     "output_type": "display_data"
    }
   ],
   "source": [
    "data_by_month.plot.bar('dt','battles',width=0.8, linewidth=1, color='b') #боёв в месяц"
   ]
  },
  {
   "cell_type": "code",
   "execution_count": 219,
   "metadata": {},
   "outputs": [
    {
     "data": {
      "text/plain": [
       "<matplotlib.axes._subplots.AxesSubplot at 0x7f466f7d30b8>"
      ]
     },
     "execution_count": 219,
     "metadata": {},
     "output_type": "execute_result"
    },
    {
     "data": {
      "image/png": "[encoded data removed]",
      "text/plain": [
       "<Figure size 720x504 with 1 Axes>"
      ]
     },
     "metadata": {},
     "output_type": "display_data"
    }
   ],
   "source": [
    "data_by_month.plot.bar('dt','revenue',width=0.8, linewidth=1, color='r') #внесено денег в месяц"
   ]
  },
  {
   "cell_type": "markdown",
   "metadata": {},
   "source": [
    "таким образом, мы видим чёткие пики сконцентрированные около апреля, разделим данные на на пики с захватом 3х месяцев от марта до мая"
   ]
  },
  {
   "cell_type": "code",
   "execution_count": 267,
   "metadata": {},
   "outputs": [],
   "source": [
    "peak17 = df.loc[(data['dt'] < '2017-06-01') & (df['dt'] > '2017-02-28')]\n",
    "peak18 = df.loc[(data['dt'] < '2018-06-01') & (df['dt'] > '2018-02-28')]\n",
    "peak19 = df.loc[(data['dt'] < '2019-06-01') & (df['dt'] > '2019-02-28')]"
   ]
  },
  {
   "cell_type": "code",
   "execution_count": 243,
   "metadata": {},
   "outputs": [
    {
     "data": {
      "text/plain": [
       "[<matplotlib.lines.Line2D at 0x7f463e3970b8>]"
      ]
     },
     "execution_count": 243,
     "metadata": {},
     "output_type": "execute_result"
    },
    {
     "data": {
      "image/png": "[encoded data removed]",
      "text/plain": [
       "<Figure size 720x504 with 1 Axes>"
      ]
     },
     "metadata": {},
     "output_type": "display_data"
    }
   ],
   "source": [
    "plt.plot(peak17.groupby(['dt'])['player_id'].count(), 'go')"
   ]
  },
  {
   "cell_type": "markdown",
   "metadata": {},
   "source": [
    "при ближайшем рассмотрении видим, что каждый пик состоит из трёх подпиков.. возможно это связано с днями недели.. предположим, что в выходные люди играют чаще..\n",
    "выявим день недели по дате и добавим два столбца данных к датасету 'день недели' и 'id дня недели' (0-пн, 1-вт, 2-ср и т.д.)"
   ]
  },
  {
   "cell_type": "code",
   "execution_count": 271,
   "metadata": {},
   "outputs": [
    {
     "ename": "ValueError",
     "evalue": "cannot insert weekday, already exists",
     "output_type": "error",
     "traceback": [
      "\u001b[0;31m---------------------------------------------------------------------------\u001b[0m",
      "\u001b[0;31mValueError\u001b[0m                                Traceback (most recent call last)",
      "\u001b[0;32m<ipython-input-271-bed9d7ea6e3a>\u001b[0m in \u001b[0;36m<module>\u001b[0;34m\u001b[0m\n\u001b[1;32m      1\u001b[0m \u001b[0mdata\u001b[0m \u001b[0;34m=\u001b[0m \u001b[0mdf\u001b[0m\u001b[0;34m\u001b[0m\u001b[0;34m\u001b[0m\u001b[0m\n\u001b[0;32m----> 2\u001b[0;31m \u001b[0mdata\u001b[0m\u001b[0;34m.\u001b[0m\u001b[0minsert\u001b[0m\u001b[0;34m(\u001b[0m\u001b[0;36m4\u001b[0m\u001b[0;34m,\u001b[0m\u001b[0;34m'weekday'\u001b[0m\u001b[0;34m,\u001b[0m \u001b[0mdata\u001b[0m\u001b[0;34m[\u001b[0m\u001b[0;34m'dt'\u001b[0m\u001b[0;34m]\u001b[0m\u001b[0;34m.\u001b[0m\u001b[0mdt\u001b[0m\u001b[0;34m.\u001b[0m\u001b[0mday_name\u001b[0m\u001b[0;34m(\u001b[0m\u001b[0;34m)\u001b[0m\u001b[0;34m)\u001b[0m\u001b[0;34m\u001b[0m\u001b[0;34m\u001b[0m\u001b[0m\n\u001b[0m\u001b[1;32m      3\u001b[0m \u001b[0mdata\u001b[0m\u001b[0;34m.\u001b[0m\u001b[0minsert\u001b[0m\u001b[0;34m(\u001b[0m\u001b[0;36m5\u001b[0m\u001b[0;34m,\u001b[0m\u001b[0;34m'week_id'\u001b[0m\u001b[0;34m,\u001b[0m \u001b[0mdata\u001b[0m\u001b[0;34m[\u001b[0m\u001b[0;34m'dt'\u001b[0m\u001b[0;34m]\u001b[0m\u001b[0;34m.\u001b[0m\u001b[0mdt\u001b[0m\u001b[0;34m.\u001b[0m\u001b[0mdayofweek\u001b[0m\u001b[0;34m)\u001b[0m\u001b[0;34m\u001b[0m\u001b[0;34m\u001b[0m\u001b[0m\n",
      "\u001b[0;32m~/anaconda3/lib/python3.7/site-packages/pandas/core/frame.py\u001b[0m in \u001b[0;36minsert\u001b[0;34m(self, loc, column, value, allow_duplicates)\u001b[0m\n\u001b[1;32m   3494\u001b[0m         \u001b[0mself\u001b[0m\u001b[0;34m.\u001b[0m\u001b[0m_ensure_valid_index\u001b[0m\u001b[0;34m(\u001b[0m\u001b[0mvalue\u001b[0m\u001b[0;34m)\u001b[0m\u001b[0;34m\u001b[0m\u001b[0;34m\u001b[0m\u001b[0m\n\u001b[1;32m   3495\u001b[0m         \u001b[0mvalue\u001b[0m \u001b[0;34m=\u001b[0m \u001b[0mself\u001b[0m\u001b[0;34m.\u001b[0m\u001b[0m_sanitize_column\u001b[0m\u001b[0;34m(\u001b[0m\u001b[0mcolumn\u001b[0m\u001b[0;34m,\u001b[0m \u001b[0mvalue\u001b[0m\u001b[0;34m,\u001b[0m \u001b[0mbroadcast\u001b[0m\u001b[0;34m=\u001b[0m\u001b[0;32mFalse\u001b[0m\u001b[0;34m)\u001b[0m\u001b[0;34m\u001b[0m\u001b[0;34m\u001b[0m\u001b[0m\n\u001b[0;32m-> 3496\u001b[0;31m         \u001b[0mself\u001b[0m\u001b[0;34m.\u001b[0m\u001b[0m_data\u001b[0m\u001b[0;34m.\u001b[0m\u001b[0minsert\u001b[0m\u001b[0;34m(\u001b[0m\u001b[0mloc\u001b[0m\u001b[0;34m,\u001b[0m \u001b[0mcolumn\u001b[0m\u001b[0;34m,\u001b[0m \u001b[0mvalue\u001b[0m\u001b[0;34m,\u001b[0m \u001b[0mallow_duplicates\u001b[0m\u001b[0;34m=\u001b[0m\u001b[0mallow_duplicates\u001b[0m\u001b[0;34m)\u001b[0m\u001b[0;34m\u001b[0m\u001b[0;34m\u001b[0m\u001b[0m\n\u001b[0m\u001b[1;32m   3497\u001b[0m \u001b[0;34m\u001b[0m\u001b[0m\n\u001b[1;32m   3498\u001b[0m     \u001b[0;32mdef\u001b[0m \u001b[0massign\u001b[0m\u001b[0;34m(\u001b[0m\u001b[0mself\u001b[0m\u001b[0;34m,\u001b[0m \u001b[0;34m**\u001b[0m\u001b[0mkwargs\u001b[0m\u001b[0;34m)\u001b[0m \u001b[0;34m->\u001b[0m \u001b[0;34m\"DataFrame\"\u001b[0m\u001b[0;34m:\u001b[0m\u001b[0;34m\u001b[0m\u001b[0;34m\u001b[0m\u001b[0m\n",
      "\u001b[0;32m~/anaconda3/lib/python3.7/site-packages/pandas/core/internals/managers.py\u001b[0m in \u001b[0;36minsert\u001b[0;34m(self, loc, item, value, allow_duplicates)\u001b[0m\n\u001b[1;32m   1171\u001b[0m         \u001b[0;32mif\u001b[0m \u001b[0;32mnot\u001b[0m \u001b[0mallow_duplicates\u001b[0m \u001b[0;32mand\u001b[0m \u001b[0mitem\u001b[0m \u001b[0;32min\u001b[0m \u001b[0mself\u001b[0m\u001b[0;34m.\u001b[0m\u001b[0mitems\u001b[0m\u001b[0;34m:\u001b[0m\u001b[0;34m\u001b[0m\u001b[0;34m\u001b[0m\u001b[0m\n\u001b[1;32m   1172\u001b[0m             \u001b[0;31m# Should this be a different kind of error??\u001b[0m\u001b[0;34m\u001b[0m\u001b[0;34m\u001b[0m\u001b[0;34m\u001b[0m\u001b[0m\n\u001b[0;32m-> 1173\u001b[0;31m             \u001b[0;32mraise\u001b[0m \u001b[0mValueError\u001b[0m\u001b[0;34m(\u001b[0m\u001b[0;34mf\"cannot insert {item}, already exists\"\u001b[0m\u001b[0;34m)\u001b[0m\u001b[0;34m\u001b[0m\u001b[0;34m\u001b[0m\u001b[0m\n\u001b[0m\u001b[1;32m   1174\u001b[0m \u001b[0;34m\u001b[0m\u001b[0m\n\u001b[1;32m   1175\u001b[0m         \u001b[0;32mif\u001b[0m \u001b[0;32mnot\u001b[0m \u001b[0misinstance\u001b[0m\u001b[0;34m(\u001b[0m\u001b[0mloc\u001b[0m\u001b[0;34m,\u001b[0m \u001b[0mint\u001b[0m\u001b[0;34m)\u001b[0m\u001b[0;34m:\u001b[0m\u001b[0;34m\u001b[0m\u001b[0;34m\u001b[0m\u001b[0m\n",
      "\u001b[0;31mValueError\u001b[0m: cannot insert weekday, already exists"
     ]
    }
   ],
   "source": [
    "data = df\n",
    "data.insert(4,'weekday', data['dt'].dt.day_name())\n",
    "data.insert(5,'week_id', data['dt'].dt.dayofweek)"
   ]
  },
  {
   "cell_type": "code",
   "execution_count": 298,
   "metadata": {},
   "outputs": [
    {
     "data": {
      "text/plain": [
       "<matplotlib.axes._subplots.AxesSubplot at 0x7f463cd007f0>"
      ]
     },
     "execution_count": 298,
     "metadata": {},
     "output_type": "execute_result"
    },
    {
     "data": {
      "image/png": "[encoded data removed]",
      "text/plain": [
       "<Figure size 720x504 with 1 Axes>"
      ]
     },
     "metadata": {},
     "output_type": "display_data"
    }
   ],
   "source": [
    "data.groupby(['week_id'])['battles'].sum().to_frame().sort_values(by='week_id').plot.bar(width=0.8, linewidth=1, color='g')"
   ]
  },
  {
   "cell_type": "markdown",
   "metadata": {},
   "source": [
    "Здесь мы видим, что действительно, в основном сражения происходят в воскресение, чуть меньше в субботу и на третьем месте понедельник, меньше всего играют по средам.\n",
    "Теперь вычислим топовых игроков, кто провёл больше всего битв, за время выборки, внес больше всего денег, проявляет самую высокую активность, а также просмотрим средние значения по выборке.."
   ]
  },
  {
   "cell_type": "code",
   "execution_count": 316,
   "metadata": {},
   "outputs": [],
   "source": [
    "aggregated_data = df.groupby(['player_id']).agg(**{'First Day' : pd.NamedAgg(column='dt', aggfunc=min),\n",
    "                               'Last Day' : pd.NamedAgg(column='dt', aggfunc=max),\n",
    "                               'Delta Day' : pd.NamedAgg(column='dt', aggfunc= lambda x : ((max(x) - min(x) + '1 day').days)),\n",
    "                               'Battles Day' : pd.NamedAgg(column='dt', aggfunc='count'), \n",
    "                               'Battles Count' : pd.NamedAgg(column='battles', aggfunc=sum), \n",
    "                               'Revenue Count' : pd.NamedAgg(column='revenue', aggfunc= lambda x : sum(map(lambda i: i > 0, x))), \n",
    "                               'Revenue Sum' : pd.NamedAgg(column='revenue', aggfunc=sum)})"
   ]
  },
  {
   "cell_type": "code",
   "execution_count": 321,
   "metadata": {},
   "outputs": [
    {
     "data": {
      "text/html": [
       "<div>\n",
       "<style scoped>\n",
       "    .dataframe tbody tr th:only-of-type {\n",
       "        vertical-align: middle;\n",
       "    }\n",
       "\n",
       "    .dataframe tbody tr th {\n",
       "        vertical-align: top;\n",
       "    }\n",
       "\n",
       "    .dataframe thead th {\n",
       "        text-align: right;\n",
       "    }\n",
       "</style>\n",
       "<table border=\"1\" class=\"dataframe\">\n",
       "  <thead>\n",
       "    <tr style=\"text-align: right;\">\n",
       "      <th></th>\n",
       "      <th>Battles Day</th>\n",
       "      <th>Battles Count</th>\n",
       "      <th>Revenue Sum</th>\n",
       "    </tr>\n",
       "    <tr>\n",
       "      <th>player_id</th>\n",
       "      <th></th>\n",
       "      <th></th>\n",
       "      <th></th>\n",
       "    </tr>\n",
       "  </thead>\n",
       "  <tbody>\n",
       "    <tr>\n",
       "      <th>3937017531</th>\n",
       "      <td>71</td>\n",
       "      <td>18033</td>\n",
       "      <td>0.00</td>\n",
       "    </tr>\n",
       "    <tr>\n",
       "      <th>1871618189</th>\n",
       "      <td>78</td>\n",
       "      <td>16333</td>\n",
       "      <td>1056.49</td>\n",
       "    </tr>\n",
       "    <tr>\n",
       "      <th>7178881223</th>\n",
       "      <td>83</td>\n",
       "      <td>16242</td>\n",
       "      <td>771.04</td>\n",
       "    </tr>\n",
       "    <tr>\n",
       "      <th>1609956240</th>\n",
       "      <td>80</td>\n",
       "      <td>16080</td>\n",
       "      <td>22.78</td>\n",
       "    </tr>\n",
       "    <tr>\n",
       "      <th>8797101107</th>\n",
       "      <td>70</td>\n",
       "      <td>14789</td>\n",
       "      <td>334.90</td>\n",
       "    </tr>\n",
       "  </tbody>\n",
       "</table>\n",
       "</div>"
      ],
      "text/plain": [
       "            Battles Day  Battles Count  Revenue Sum\n",
       "player_id                                          \n",
       "3937017531           71          18033         0.00\n",
       "1871618189           78          16333      1056.49\n",
       "7178881223           83          16242       771.04\n",
       "1609956240           80          16080        22.78\n",
       "8797101107           70          14789       334.90"
      ]
     },
     "execution_count": 321,
     "metadata": {},
     "output_type": "execute_result"
    }
   ],
   "source": [
    "aggregated_data[['Battles Day','Battles Count','Revenue Sum']].sort_values(by='Battles Count', ascending = False).head()"
   ]
  },
  {
   "cell_type": "markdown",
   "metadata": {},
   "source": [
    "Здесь выведено топ 5 игроков по проведенным битвам.\n",
    "Стоит пояснить:\n",
    "Battles Day - сколько дней игрок играл (провёл хотя бы один бой)\n",
    "Battles Count - сколько битв всего он сыграл\n",
    "Revenue Sum - сколько он внёс денежных средств\n",
    "\n",
    "Посмотрим, кто лидирует по внесенным денежным средствам.."
   ]
  },
  {
   "cell_type": "code",
   "execution_count": 323,
   "metadata": {},
   "outputs": [
    {
     "data": {
      "text/html": [
       "<div>\n",
       "<style scoped>\n",
       "    .dataframe tbody tr th:only-of-type {\n",
       "        vertical-align: middle;\n",
       "    }\n",
       "\n",
       "    .dataframe tbody tr th {\n",
       "        vertical-align: top;\n",
       "    }\n",
       "\n",
       "    .dataframe thead th {\n",
       "        text-align: right;\n",
       "    }\n",
       "</style>\n",
       "<table border=\"1\" class=\"dataframe\">\n",
       "  <thead>\n",
       "    <tr style=\"text-align: right;\">\n",
       "      <th></th>\n",
       "      <th>Battles Day</th>\n",
       "      <th>Battles Count</th>\n",
       "      <th>Revenue Sum</th>\n",
       "    </tr>\n",
       "    <tr>\n",
       "      <th>player_id</th>\n",
       "      <th></th>\n",
       "      <th></th>\n",
       "      <th></th>\n",
       "    </tr>\n",
       "  </thead>\n",
       "  <tbody>\n",
       "    <tr>\n",
       "      <th>1615792575</th>\n",
       "      <td>76</td>\n",
       "      <td>9031</td>\n",
       "      <td>1993.86</td>\n",
       "    </tr>\n",
       "    <tr>\n",
       "      <th>2605365678</th>\n",
       "      <td>73</td>\n",
       "      <td>5409</td>\n",
       "      <td>1515.45</td>\n",
       "    </tr>\n",
       "    <tr>\n",
       "      <th>5175944443</th>\n",
       "      <td>67</td>\n",
       "      <td>4844</td>\n",
       "      <td>1289.06</td>\n",
       "    </tr>\n",
       "    <tr>\n",
       "      <th>8291614094</th>\n",
       "      <td>35</td>\n",
       "      <td>2563</td>\n",
       "      <td>1129.93</td>\n",
       "    </tr>\n",
       "    <tr>\n",
       "      <th>8393696122</th>\n",
       "      <td>73</td>\n",
       "      <td>5496</td>\n",
       "      <td>1126.95</td>\n",
       "    </tr>\n",
       "  </tbody>\n",
       "</table>\n",
       "</div>"
      ],
      "text/plain": [
       "            Battles Day  Battles Count  Revenue Sum\n",
       "player_id                                          \n",
       "1615792575           76           9031      1993.86\n",
       "2605365678           73           5409      1515.45\n",
       "5175944443           67           4844      1289.06\n",
       "8291614094           35           2563      1129.93\n",
       "8393696122           73           5496      1126.95"
      ]
     },
     "execution_count": 323,
     "metadata": {},
     "output_type": "execute_result"
    }
   ],
   "source": [
    "aggregated_data[['Battles Day','Battles Count','Revenue Sum']].sort_values(by='Revenue Sum', ascending = False).head()"
   ]
  },
  {
   "cell_type": "markdown",
   "metadata": {},
   "source": [
    "Это топ 5 игроков по внесенных суммам за весь период их игры"
   ]
  },
  {
   "cell_type": "code",
   "execution_count": 324,
   "metadata": {},
   "outputs": [
    {
     "data": {
      "text/html": [
       "<div>\n",
       "<style scoped>\n",
       "    .dataframe tbody tr th:only-of-type {\n",
       "        vertical-align: middle;\n",
       "    }\n",
       "\n",
       "    .dataframe tbody tr th {\n",
       "        vertical-align: top;\n",
       "    }\n",
       "\n",
       "    .dataframe thead th {\n",
       "        text-align: right;\n",
       "    }\n",
       "</style>\n",
       "<table border=\"1\" class=\"dataframe\">\n",
       "  <thead>\n",
       "    <tr style=\"text-align: right;\">\n",
       "      <th></th>\n",
       "      <th>Battles Day</th>\n",
       "      <th>Battles Count</th>\n",
       "      <th>Revenue Sum</th>\n",
       "    </tr>\n",
       "    <tr>\n",
       "      <th>player_id</th>\n",
       "      <th></th>\n",
       "      <th></th>\n",
       "      <th></th>\n",
       "    </tr>\n",
       "  </thead>\n",
       "  <tbody>\n",
       "    <tr>\n",
       "      <th>9140047915</th>\n",
       "      <td>84</td>\n",
       "      <td>7564</td>\n",
       "      <td>347.85</td>\n",
       "    </tr>\n",
       "    <tr>\n",
       "      <th>3245924314</th>\n",
       "      <td>83</td>\n",
       "      <td>7272</td>\n",
       "      <td>0.00</td>\n",
       "    </tr>\n",
       "    <tr>\n",
       "      <th>5583063040</th>\n",
       "      <td>83</td>\n",
       "      <td>11964</td>\n",
       "      <td>0.00</td>\n",
       "    </tr>\n",
       "    <tr>\n",
       "      <th>2565420612</th>\n",
       "      <td>83</td>\n",
       "      <td>6274</td>\n",
       "      <td>14.70</td>\n",
       "    </tr>\n",
       "    <tr>\n",
       "      <th>7178881223</th>\n",
       "      <td>83</td>\n",
       "      <td>16242</td>\n",
       "      <td>771.04</td>\n",
       "    </tr>\n",
       "  </tbody>\n",
       "</table>\n",
       "</div>"
      ],
      "text/plain": [
       "            Battles Day  Battles Count  Revenue Sum\n",
       "player_id                                          \n",
       "9140047915           84           7564       347.85\n",
       "3245924314           83           7272         0.00\n",
       "5583063040           83          11964         0.00\n",
       "2565420612           83           6274        14.70\n",
       "7178881223           83          16242       771.04"
      ]
     },
     "execution_count": 324,
     "metadata": {},
     "output_type": "execute_result"
    }
   ],
   "source": [
    "aggregated_data[['Battles Day','Battles Count','Revenue Sum']].sort_values(by='Battles Day', ascending = False).head()"
   ]
  },
  {
   "cell_type": "code",
   "execution_count": null,
   "metadata": {},
   "outputs": [],
   "source": []
  },
  {
   "cell_type": "markdown",
   "metadata": {},
   "source": [
    "Только один человек пересёкся в хотя бы двух выборках, это id 7178881223... хм, выглядит как один из наших постоянных и ценных игроков, нам явно не следует его терять из виду и возможно предложить пару бонусов..:)\n",
    "Теперь попробуем ввести коэффициенты активности игроков по проведенным битвам и по внесенным деньгам."
   ]
  },
  {
   "cell_type": "code",
   "execution_count": 329,
   "metadata": {},
   "outputs": [],
   "source": [
    "aggregated_data['Koef Activity By Battles'] = aggregated_data['Battles Day']/aggregated_data['Delta Day']\n",
    "aggregated_data['Koef Activity By Revenue'] = aggregated_data['Revenue Count']/aggregated_data['Delta Day']"
   ]
  },
  {
   "cell_type": "code",
   "execution_count": 330,
   "metadata": {},
   "outputs": [
    {
     "data": {
      "text/html": [
       "<div>\n",
       "<style scoped>\n",
       "    .dataframe tbody tr th:only-of-type {\n",
       "        vertical-align: middle;\n",
       "    }\n",
       "\n",
       "    .dataframe tbody tr th {\n",
       "        vertical-align: top;\n",
       "    }\n",
       "\n",
       "    .dataframe thead th {\n",
       "        text-align: right;\n",
       "    }\n",
       "</style>\n",
       "<table border=\"1\" class=\"dataframe\">\n",
       "  <thead>\n",
       "    <tr style=\"text-align: right;\">\n",
       "      <th></th>\n",
       "      <th>First Day</th>\n",
       "      <th>Last Day</th>\n",
       "      <th>Delta Day</th>\n",
       "      <th>Battles Day</th>\n",
       "      <th>Battles Count</th>\n",
       "      <th>Revenue Count</th>\n",
       "      <th>Revenue Sum</th>\n",
       "      <th>Koef Activity By Battles</th>\n",
       "      <th>Koef Activity By Revenue</th>\n",
       "    </tr>\n",
       "    <tr>\n",
       "      <th>player_id</th>\n",
       "      <th></th>\n",
       "      <th></th>\n",
       "      <th></th>\n",
       "      <th></th>\n",
       "      <th></th>\n",
       "      <th></th>\n",
       "      <th></th>\n",
       "      <th></th>\n",
       "      <th></th>\n",
       "    </tr>\n",
       "  </thead>\n",
       "  <tbody>\n",
       "    <tr>\n",
       "      <th>6269794050</th>\n",
       "      <td>2019-03-16</td>\n",
       "      <td>2019-03-16</td>\n",
       "      <td>1</td>\n",
       "      <td>1</td>\n",
       "      <td>2</td>\n",
       "      <td>0.0</td>\n",
       "      <td>0.0</td>\n",
       "      <td>1.0</td>\n",
       "      <td>0.0</td>\n",
       "    </tr>\n",
       "    <tr>\n",
       "      <th>3224534144</th>\n",
       "      <td>2018-03-17</td>\n",
       "      <td>2018-03-18</td>\n",
       "      <td>2</td>\n",
       "      <td>2</td>\n",
       "      <td>97</td>\n",
       "      <td>0.0</td>\n",
       "      <td>0.0</td>\n",
       "      <td>1.0</td>\n",
       "      <td>0.0</td>\n",
       "    </tr>\n",
       "    <tr>\n",
       "      <th>6817936968</th>\n",
       "      <td>2019-03-16</td>\n",
       "      <td>2019-03-16</td>\n",
       "      <td>1</td>\n",
       "      <td>1</td>\n",
       "      <td>8</td>\n",
       "      <td>0.0</td>\n",
       "      <td>0.0</td>\n",
       "      <td>1.0</td>\n",
       "      <td>0.0</td>\n",
       "    </tr>\n",
       "    <tr>\n",
       "      <th>6817809559</th>\n",
       "      <td>2018-04-29</td>\n",
       "      <td>2018-04-30</td>\n",
       "      <td>2</td>\n",
       "      <td>2</td>\n",
       "      <td>28</td>\n",
       "      <td>0.0</td>\n",
       "      <td>0.0</td>\n",
       "      <td>1.0</td>\n",
       "      <td>0.0</td>\n",
       "    </tr>\n",
       "    <tr>\n",
       "      <th>8034346963</th>\n",
       "      <td>2019-05-03</td>\n",
       "      <td>2019-05-03</td>\n",
       "      <td>1</td>\n",
       "      <td>1</td>\n",
       "      <td>12</td>\n",
       "      <td>0.0</td>\n",
       "      <td>0.0</td>\n",
       "      <td>1.0</td>\n",
       "      <td>0.0</td>\n",
       "    </tr>\n",
       "  </tbody>\n",
       "</table>\n",
       "</div>"
      ],
      "text/plain": [
       "            First Day   Last Day  Delta Day  Battles Day  Battles Count  \\\n",
       "player_id                                                                 \n",
       "6269794050 2019-03-16 2019-03-16          1            1              2   \n",
       "3224534144 2018-03-17 2018-03-18          2            2             97   \n",
       "6817936968 2019-03-16 2019-03-16          1            1              8   \n",
       "6817809559 2018-04-29 2018-04-30          2            2             28   \n",
       "8034346963 2019-05-03 2019-05-03          1            1             12   \n",
       "\n",
       "            Revenue Count  Revenue Sum  Koef Activity By Battles  \\\n",
       "player_id                                                          \n",
       "6269794050            0.0          0.0                       1.0   \n",
       "3224534144            0.0          0.0                       1.0   \n",
       "6817936968            0.0          0.0                       1.0   \n",
       "6817809559            0.0          0.0                       1.0   \n",
       "8034346963            0.0          0.0                       1.0   \n",
       "\n",
       "            Koef Activity By Revenue  \n",
       "player_id                             \n",
       "6269794050                       0.0  \n",
       "3224534144                       0.0  \n",
       "6817936968                       0.0  \n",
       "6817809559                       0.0  \n",
       "8034346963                       0.0  "
      ]
     },
     "execution_count": 330,
     "metadata": {},
     "output_type": "execute_result"
    }
   ],
   "source": [
    "aggregated_data[aggregated_data['Koef Activity By Battles'] > 0].sort_values(by = 'Koef Activity By Battles', ascending = False).head()"
   ]
  },
  {
   "cell_type": "code",
   "execution_count": 331,
   "metadata": {},
   "outputs": [
    {
     "data": {
      "text/html": [
       "<div>\n",
       "<style scoped>\n",
       "    .dataframe tbody tr th:only-of-type {\n",
       "        vertical-align: middle;\n",
       "    }\n",
       "\n",
       "    .dataframe tbody tr th {\n",
       "        vertical-align: top;\n",
       "    }\n",
       "\n",
       "    .dataframe thead th {\n",
       "        text-align: right;\n",
       "    }\n",
       "</style>\n",
       "<table border=\"1\" class=\"dataframe\">\n",
       "  <thead>\n",
       "    <tr style=\"text-align: right;\">\n",
       "      <th></th>\n",
       "      <th>First Day</th>\n",
       "      <th>Last Day</th>\n",
       "      <th>Delta Day</th>\n",
       "      <th>Battles Day</th>\n",
       "      <th>Battles Count</th>\n",
       "      <th>Revenue Count</th>\n",
       "      <th>Revenue Sum</th>\n",
       "      <th>Koef Activity By Battles</th>\n",
       "      <th>Koef Activity By Revenue</th>\n",
       "    </tr>\n",
       "    <tr>\n",
       "      <th>player_id</th>\n",
       "      <th></th>\n",
       "      <th></th>\n",
       "      <th></th>\n",
       "      <th></th>\n",
       "      <th></th>\n",
       "      <th></th>\n",
       "      <th></th>\n",
       "      <th></th>\n",
       "      <th></th>\n",
       "    </tr>\n",
       "  </thead>\n",
       "  <tbody>\n",
       "    <tr>\n",
       "      <th>1516310689</th>\n",
       "      <td>2018-04-29</td>\n",
       "      <td>2018-04-29</td>\n",
       "      <td>1</td>\n",
       "      <td>1</td>\n",
       "      <td>64</td>\n",
       "      <td>1.0</td>\n",
       "      <td>41.91</td>\n",
       "      <td>1.0</td>\n",
       "      <td>1.0</td>\n",
       "    </tr>\n",
       "    <tr>\n",
       "      <th>3648765878</th>\n",
       "      <td>2017-04-30</td>\n",
       "      <td>2017-04-30</td>\n",
       "      <td>1</td>\n",
       "      <td>1</td>\n",
       "      <td>81</td>\n",
       "      <td>1.0</td>\n",
       "      <td>1.85</td>\n",
       "      <td>1.0</td>\n",
       "      <td>1.0</td>\n",
       "    </tr>\n",
       "    <tr>\n",
       "      <th>1237541593</th>\n",
       "      <td>2018-03-17</td>\n",
       "      <td>2018-03-17</td>\n",
       "      <td>1</td>\n",
       "      <td>1</td>\n",
       "      <td>30</td>\n",
       "      <td>1.0</td>\n",
       "      <td>2.44</td>\n",
       "      <td>1.0</td>\n",
       "      <td>1.0</td>\n",
       "    </tr>\n",
       "    <tr>\n",
       "      <th>3704586610</th>\n",
       "      <td>2018-03-17</td>\n",
       "      <td>2018-03-17</td>\n",
       "      <td>1</td>\n",
       "      <td>1</td>\n",
       "      <td>11</td>\n",
       "      <td>1.0</td>\n",
       "      <td>1.46</td>\n",
       "      <td>1.0</td>\n",
       "      <td>1.0</td>\n",
       "    </tr>\n",
       "    <tr>\n",
       "      <th>2237922632</th>\n",
       "      <td>2017-03-18</td>\n",
       "      <td>2017-03-18</td>\n",
       "      <td>1</td>\n",
       "      <td>1</td>\n",
       "      <td>13</td>\n",
       "      <td>1.0</td>\n",
       "      <td>79.25</td>\n",
       "      <td>1.0</td>\n",
       "      <td>1.0</td>\n",
       "    </tr>\n",
       "  </tbody>\n",
       "</table>\n",
       "</div>"
      ],
      "text/plain": [
       "            First Day   Last Day  Delta Day  Battles Day  Battles Count  \\\n",
       "player_id                                                                 \n",
       "1516310689 2018-04-29 2018-04-29          1            1             64   \n",
       "3648765878 2017-04-30 2017-04-30          1            1             81   \n",
       "1237541593 2018-03-17 2018-03-17          1            1             30   \n",
       "3704586610 2018-03-17 2018-03-17          1            1             11   \n",
       "2237922632 2017-03-18 2017-03-18          1            1             13   \n",
       "\n",
       "            Revenue Count  Revenue Sum  Koef Activity By Battles  \\\n",
       "player_id                                                          \n",
       "1516310689            1.0        41.91                       1.0   \n",
       "3648765878            1.0         1.85                       1.0   \n",
       "1237541593            1.0         2.44                       1.0   \n",
       "3704586610            1.0         1.46                       1.0   \n",
       "2237922632            1.0        79.25                       1.0   \n",
       "\n",
       "            Koef Activity By Revenue  \n",
       "player_id                             \n",
       "1516310689                       1.0  \n",
       "3648765878                       1.0  \n",
       "1237541593                       1.0  \n",
       "3704586610                       1.0  \n",
       "2237922632                       1.0  "
      ]
     },
     "execution_count": 331,
     "metadata": {},
     "output_type": "execute_result"
    }
   ],
   "source": [
    "aggregated_data[aggregated_data['Koef Activity By Revenue'] > 0].sort_values(by = 'Koef Activity By Revenue', ascending = False).head()"
   ]
  },
  {
   "cell_type": "markdown",
   "metadata": {},
   "source": [
    "Да, выглядит как не удачная попытка, пробуя ввести коэффициенты как (отношение дней в которые игрок играл к периоду с момента первой регистрации и до последней) - для активности по битвам (Koef Activity By Battles) и как (отношение дней, когда игрок приносил прибыль к периоду с момента первой регистрации и до последней) - для активности по прибыли (Koef Activity By Revenue), нужно учитывать то, что это может быть просто игрок в выборке, который провёл лишь один день в игре. что ж, тогда найдем средние значения и посмотрим кто лидирует по коэффициентам, при этом превышая средние показатели."
   ]
  },
  {
   "cell_type": "code",
   "execution_count": null,
   "metadata": {},
   "outputs": [],
   "source": [
    "def Average(lst): \n",
    "    return sum(lst) / len(lst) "
   ]
  },
  {
   "cell_type": "code",
   "execution_count": 347,
   "metadata": {},
   "outputs": [
    {
     "name": "stdout",
     "output_type": "stream",
     "text": [
      "9.41022969857399\n"
     ]
    },
    {
     "data": {
      "text/html": [
       "<div>\n",
       "<style scoped>\n",
       "    .dataframe tbody tr th:only-of-type {\n",
       "        vertical-align: middle;\n",
       "    }\n",
       "\n",
       "    .dataframe tbody tr th {\n",
       "        vertical-align: top;\n",
       "    }\n",
       "\n",
       "    .dataframe thead th {\n",
       "        text-align: right;\n",
       "    }\n",
       "</style>\n",
       "<table border=\"1\" class=\"dataframe\">\n",
       "  <thead>\n",
       "    <tr style=\"text-align: right;\">\n",
       "      <th></th>\n",
       "      <th>First Day</th>\n",
       "      <th>Last Day</th>\n",
       "      <th>Delta Day</th>\n",
       "      <th>Battles Day</th>\n",
       "      <th>Battles Count</th>\n",
       "      <th>Revenue Count</th>\n",
       "      <th>Revenue Sum</th>\n",
       "      <th>Koef Activity By Battles</th>\n",
       "      <th>Koef Activity By Revenue</th>\n",
       "    </tr>\n",
       "    <tr>\n",
       "      <th>player_id</th>\n",
       "      <th></th>\n",
       "      <th></th>\n",
       "      <th></th>\n",
       "      <th></th>\n",
       "      <th></th>\n",
       "      <th></th>\n",
       "      <th></th>\n",
       "      <th></th>\n",
       "      <th></th>\n",
       "    </tr>\n",
       "  </thead>\n",
       "  <tbody>\n",
       "    <tr>\n",
       "      <th>5581048274</th>\n",
       "      <td>2019-03-16</td>\n",
       "      <td>2019-03-28</td>\n",
       "      <td>13</td>\n",
       "      <td>13</td>\n",
       "      <td>929</td>\n",
       "      <td>0.0</td>\n",
       "      <td>0.0</td>\n",
       "      <td>1.0</td>\n",
       "      <td>0.0</td>\n",
       "    </tr>\n",
       "    <tr>\n",
       "      <th>5627551425</th>\n",
       "      <td>2019-03-16</td>\n",
       "      <td>2019-03-25</td>\n",
       "      <td>10</td>\n",
       "      <td>10</td>\n",
       "      <td>790</td>\n",
       "      <td>0.0</td>\n",
       "      <td>0.0</td>\n",
       "      <td>1.0</td>\n",
       "      <td>0.0</td>\n",
       "    </tr>\n",
       "    <tr>\n",
       "      <th>2400853522</th>\n",
       "      <td>2019-03-16</td>\n",
       "      <td>2019-03-25</td>\n",
       "      <td>10</td>\n",
       "      <td>10</td>\n",
       "      <td>1473</td>\n",
       "      <td>0.0</td>\n",
       "      <td>0.0</td>\n",
       "      <td>1.0</td>\n",
       "      <td>0.0</td>\n",
       "    </tr>\n",
       "    <tr>\n",
       "      <th>2377626525</th>\n",
       "      <td>2018-03-17</td>\n",
       "      <td>2018-03-28</td>\n",
       "      <td>12</td>\n",
       "      <td>12</td>\n",
       "      <td>700</td>\n",
       "      <td>0.0</td>\n",
       "      <td>0.0</td>\n",
       "      <td>1.0</td>\n",
       "      <td>0.0</td>\n",
       "    </tr>\n",
       "    <tr>\n",
       "      <th>5399234068</th>\n",
       "      <td>2017-03-18</td>\n",
       "      <td>2017-03-29</td>\n",
       "      <td>12</td>\n",
       "      <td>12</td>\n",
       "      <td>538</td>\n",
       "      <td>0.0</td>\n",
       "      <td>0.0</td>\n",
       "      <td>1.0</td>\n",
       "      <td>0.0</td>\n",
       "    </tr>\n",
       "  </tbody>\n",
       "</table>\n",
       "</div>"
      ],
      "text/plain": [
       "            First Day   Last Day  Delta Day  Battles Day  Battles Count  \\\n",
       "player_id                                                                 \n",
       "5581048274 2019-03-16 2019-03-28         13           13            929   \n",
       "5627551425 2019-03-16 2019-03-25         10           10            790   \n",
       "2400853522 2019-03-16 2019-03-25         10           10           1473   \n",
       "2377626525 2018-03-17 2018-03-28         12           12            700   \n",
       "5399234068 2017-03-18 2017-03-29         12           12            538   \n",
       "\n",
       "            Revenue Count  Revenue Sum  Koef Activity By Battles  \\\n",
       "player_id                                                          \n",
       "5581048274            0.0          0.0                       1.0   \n",
       "5627551425            0.0          0.0                       1.0   \n",
       "2400853522            0.0          0.0                       1.0   \n",
       "2377626525            0.0          0.0                       1.0   \n",
       "5399234068            0.0          0.0                       1.0   \n",
       "\n",
       "            Koef Activity By Revenue  \n",
       "player_id                             \n",
       "5581048274                       0.0  \n",
       "5627551425                       0.0  \n",
       "2400853522                       0.0  \n",
       "2377626525                       0.0  \n",
       "5399234068                       0.0  "
      ]
     },
     "execution_count": 347,
     "metadata": {},
     "output_type": "execute_result"
    }
   ],
   "source": [
    "mean_count = Average(aggregated_data['Battles Day']) \n",
    "print(mean_count)\n",
    "aggregated_data[(aggregated_data['Koef Activity By Battles'] > 0) & (aggregated_data['Battles Day'] > mean_count)].sort_values(by='Koef Activity By Battles', ascending = False).head()"
   ]
  },
  {
   "cell_type": "code",
   "execution_count": 348,
   "metadata": {},
   "outputs": [
    {
     "data": {
      "text/html": [
       "<div>\n",
       "<style scoped>\n",
       "    .dataframe tbody tr th:only-of-type {\n",
       "        vertical-align: middle;\n",
       "    }\n",
       "\n",
       "    .dataframe tbody tr th {\n",
       "        vertical-align: top;\n",
       "    }\n",
       "\n",
       "    .dataframe thead th {\n",
       "        text-align: right;\n",
       "    }\n",
       "</style>\n",
       "<table border=\"1\" class=\"dataframe\">\n",
       "  <thead>\n",
       "    <tr style=\"text-align: right;\">\n",
       "      <th></th>\n",
       "      <th>First Day</th>\n",
       "      <th>Last Day</th>\n",
       "      <th>Delta Day</th>\n",
       "      <th>Battles Day</th>\n",
       "      <th>Battles Count</th>\n",
       "      <th>Revenue Count</th>\n",
       "      <th>Revenue Sum</th>\n",
       "      <th>Koef Activity By Battles</th>\n",
       "      <th>Koef Activity By Revenue</th>\n",
       "    </tr>\n",
       "    <tr>\n",
       "      <th>player_id</th>\n",
       "      <th></th>\n",
       "      <th></th>\n",
       "      <th></th>\n",
       "      <th></th>\n",
       "      <th></th>\n",
       "      <th></th>\n",
       "      <th></th>\n",
       "      <th></th>\n",
       "      <th></th>\n",
       "    </tr>\n",
       "  </thead>\n",
       "  <tbody>\n",
       "    <tr>\n",
       "      <th>7705495782</th>\n",
       "      <td>2018-03-17</td>\n",
       "      <td>2018-03-28</td>\n",
       "      <td>12</td>\n",
       "      <td>12</td>\n",
       "      <td>1390</td>\n",
       "      <td>6.0</td>\n",
       "      <td>134.25</td>\n",
       "      <td>1.000000</td>\n",
       "      <td>0.500000</td>\n",
       "    </tr>\n",
       "    <tr>\n",
       "      <th>1501332279</th>\n",
       "      <td>2019-03-16</td>\n",
       "      <td>2019-03-30</td>\n",
       "      <td>15</td>\n",
       "      <td>11</td>\n",
       "      <td>1088</td>\n",
       "      <td>5.0</td>\n",
       "      <td>160.40</td>\n",
       "      <td>0.733333</td>\n",
       "      <td>0.333333</td>\n",
       "    </tr>\n",
       "    <tr>\n",
       "      <th>2463563216</th>\n",
       "      <td>2017-03-18</td>\n",
       "      <td>2017-03-28</td>\n",
       "      <td>11</td>\n",
       "      <td>10</td>\n",
       "      <td>240</td>\n",
       "      <td>3.0</td>\n",
       "      <td>81.15</td>\n",
       "      <td>0.909091</td>\n",
       "      <td>0.272727</td>\n",
       "    </tr>\n",
       "    <tr>\n",
       "      <th>8406546953</th>\n",
       "      <td>2019-03-16</td>\n",
       "      <td>2019-03-27</td>\n",
       "      <td>12</td>\n",
       "      <td>12</td>\n",
       "      <td>1599</td>\n",
       "      <td>3.0</td>\n",
       "      <td>20.57</td>\n",
       "      <td>1.000000</td>\n",
       "      <td>0.250000</td>\n",
       "    </tr>\n",
       "    <tr>\n",
       "      <th>3418461292</th>\n",
       "      <td>2019-03-16</td>\n",
       "      <td>2019-03-30</td>\n",
       "      <td>15</td>\n",
       "      <td>13</td>\n",
       "      <td>1032</td>\n",
       "      <td>3.0</td>\n",
       "      <td>224.18</td>\n",
       "      <td>0.866667</td>\n",
       "      <td>0.200000</td>\n",
       "    </tr>\n",
       "  </tbody>\n",
       "</table>\n",
       "</div>"
      ],
      "text/plain": [
       "            First Day   Last Day  Delta Day  Battles Day  Battles Count  \\\n",
       "player_id                                                                 \n",
       "7705495782 2018-03-17 2018-03-28         12           12           1390   \n",
       "1501332279 2019-03-16 2019-03-30         15           11           1088   \n",
       "2463563216 2017-03-18 2017-03-28         11           10            240   \n",
       "8406546953 2019-03-16 2019-03-27         12           12           1599   \n",
       "3418461292 2019-03-16 2019-03-30         15           13           1032   \n",
       "\n",
       "            Revenue Count  Revenue Sum  Koef Activity By Battles  \\\n",
       "player_id                                                          \n",
       "7705495782            6.0       134.25                  1.000000   \n",
       "1501332279            5.0       160.40                  0.733333   \n",
       "2463563216            3.0        81.15                  0.909091   \n",
       "8406546953            3.0        20.57                  1.000000   \n",
       "3418461292            3.0       224.18                  0.866667   \n",
       "\n",
       "            Koef Activity By Revenue  \n",
       "player_id                             \n",
       "7705495782                  0.500000  \n",
       "1501332279                  0.333333  \n",
       "2463563216                  0.272727  \n",
       "8406546953                  0.250000  \n",
       "3418461292                  0.200000  "
      ]
     },
     "execution_count": 348,
     "metadata": {},
     "output_type": "execute_result"
    }
   ],
   "source": [
    "aggregated_data[(aggregated_data['Koef Activity By Revenue'] > 0) & (aggregated_data['Battles Day'] > mean_count)].sort_values(by='Koef Activity By Revenue', ascending = False).head()"
   ]
  },
  {
   "cell_type": "markdown",
   "metadata": {},
   "source": [
    "Таким образом мы видим топ игроков, которые ни дня не пропустили играя и игроков, которые почти каждый игровой день приносят нам прибыль\n",
    "\n",
    "К сожалению, это пока всё, что я успела сделать с данными, хотя здесь ещё столько возможностей для анализа.."
   ]
  }
 ],
 "metadata": {
  "kernelspec": {
   "display_name": "Python 3",
   "language": "python",
   "name": "python3"
  },
  "language_info": {
   "codemirror_mode": {
    "name": "ipython",
    "version": 3
   },
   "file_extension": ".py",
   "mimetype": "text/x-python",
   "name": "python",
   "nbconvert_exporter": "python",
   "pygments_lexer": "ipython3",
   "version": "3.7.3"
  }
 },
 "nbformat": 4,
 "nbformat_minor": 2
}
